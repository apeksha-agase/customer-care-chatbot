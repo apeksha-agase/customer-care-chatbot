{
  "nbformat": 4,
  "nbformat_minor": 0,
  "metadata": {
    "colab": {
      "name": "chatbot.ipynb",
      "provenance": [],
      "collapsed_sections": [],
      "authorship_tag": "ABX9TyPnXezt4wRmtkB0cTYC9ss4",
      "include_colab_link": true
    },
    "kernelspec": {
      "name": "python3",
      "display_name": "Python 3"
    },
    "language_info": {
      "name": "python"
    }
  },
  "cells": [
    {
      "cell_type": "markdown",
      "metadata": {
        "id": "view-in-github",
        "colab_type": "text"
      },
      "source": [
        "<a href=\"https://colab.research.google.com/github/apeksha-agase/customer-care-chatbot/blob/main/chatbot.ipynb\" target=\"_parent\"><img src=\"https://colab.research.google.com/assets/colab-badge.svg\" alt=\"Open In Colab\"/></a>"
      ]
    },
    {
      "cell_type": "code",
      "metadata": {
        "id": "tsjFfoHHqNd8"
      },
      "source": [
        "import nltk\n",
        "\n",
        "from nltk.stem import WordNetLemmatizer\n",
        "lemmatizer = WordNetLemmatizer()\n",
        "import json\n",
        "import pickle\n",
        "\n",
        "import numpy as np\n",
        "from keras.models import Sequential\n",
        "from keras.layers import Dense, Activation, Dropout\n",
        "\n",
        "import random\n",
        "\n",
        "words=[]\n",
        "classes = []\n",
        "documents = []\n",
        "ignore_words = ['?', '!']\n",
        "data_file = open('./sample_data/intents.json').read()\n",
        "intents = json.loads(data_file)"
      ],
      "execution_count": null,
      "outputs": []
    },
    {
      "cell_type": "code",
      "metadata": {
        "colab": {
          "base_uri": "https://localhost:8080/"
        },
        "id": "iyGSw-FssD0w",
        "outputId": "639e37b8-a877-4779-996c-59344830c05f"
      },
      "source": [
        "nltk.download('punkt')\n",
        "  \n",
        "for intent in intents['intents']:\n",
        "    for pattern in intent['patterns']:\n",
        "\n",
        "        #tokenize each word\n",
        "        w = nltk.word_tokenize(pattern)\n",
        "        words.extend(w)\n",
        "        #add documents in the corpus\n",
        "        documents.append((w, intent['tag']))\n",
        "\n",
        "        # add to our classes list\n",
        "        if intent['tag'] not in classes:\n",
        "            classes.append(intent['tag'])"
      ],
      "execution_count": null,
      "outputs": [
        {
          "output_type": "stream",
          "name": "stdout",
          "text": [
            "[nltk_data] Downloading package punkt to /root/nltk_data...\n",
            "[nltk_data]   Unzipping tokenizers/punkt.zip.\n"
          ]
        }
      ]
    },
    {
      "cell_type": "code",
      "source": [
        ""
      ],
      "metadata": {
        "id": "yStdKmiBaiP-"
      },
      "execution_count": null,
      "outputs": []
    },
    {
      "cell_type": "code",
      "metadata": {
        "colab": {
          "base_uri": "https://localhost:8080/"
        },
        "id": "oSh4hXbEuFLJ",
        "outputId": "92ad858e-07b4-4e40-9ed4-92d554c32c94"
      },
      "source": [
        "nltk.download('wordnet')\n",
        "print (len(words), \"original words\", words)\n",
        "words = [lemmatizer.lemmatize(w.lower()) for w in words if w not in ignore_words]\n",
        "words = sorted(list(set(words)))\n",
        "# sort classes\n",
        "classes = sorted(list(set(classes)))\n",
        "# documents = combination between patterns and intents\n",
        "print (len(documents), \"documents\")\n",
        "# classes = intents\n",
        "print (len(classes), \"classes\", classes)\n",
        "# words = all words, vocabulary\n",
        "print (len(words), \"unique lemmatized words\", words)\n",
        "\n",
        "pickle.dump(words,open('words.pkl','wb'))\n",
        "pickle.dump(classes,open('classes.pkl','wb'))"
      ],
      "execution_count": null,
      "outputs": [
        {
          "output_type": "stream",
          "name": "stdout",
          "text": [
            "[nltk_data] Downloading package wordnet to /root/nltk_data...\n",
            "[nltk_data]   Unzipping corpora/wordnet.zip.\n",
            "475 original words ['welcome', 'Hi', 'there', 'How', 'are', 'you', 'Is', 'anyone', 'there', '?', 'Hey', 'Hola', 'Hello', 'Good', 'day', 'I', 'want', 'my', 'ticket', 'Download', 'my', 'ticket', 'Give', 'me', 'my', 'ticket', 'I', 'want', 'to', 'cancel', 'my', 'flight', 'ticket', 'cancel', 'my', 'flight', 'I', 'want', 'to', 'reschedule', 'my', 'flight', 'ticket', 'reschedule', 'my', 'flight', 'Bye', 'See', 'you', 'later', 'Goodbye', 'Nice', 'chatting', 'to', 'you', ',', 'bye', 'Till', 'next', 'time', 'Thanks', 'Thank', 'you', 'That', \"'s\", 'helpful', 'Awesome', ',', 'thanks', 'Thanks', 'for', 'helping', 'me', 'How', 'you', 'could', 'help', 'me', '?', 'What', 'help', 'you', 'provide', '?', 'How', 'you', 'can', 'be', 'helpful', '?', 'where', 'is', 'order', 'with', 'id', '431B67', '?', 'track', 'order', '562B78', 'Where', 'is', 'my', 'order', 'with', 'id', '561A24', '?', 'order', 'id', '345A23', 'comprises', 'of', '?', 'List', 'of', 'components', 'where', 'is', 'the', 'order', 'where', 'is', 'my', 'order', 'locate', 'the', 'order', 'Delivery', 'date', 'of', 'order', 'find', 'order', 'location', '32712', 'What', 'is', 'the', 'Location', 'of', 'order', '23A31', '?', 'I', 'want', 'an', 'appoitment', 'with', 'Manoj', 'kumar', 'set', 'an', 'appointment', 'with', 'Sujata', 'Nandi', 'Is', 'my', 'appointment', 'fixed', '?', 'Do', 'I', 'have', 'an', 'appointment', 'today', '?', 'Is', 'Sujata', 'Nandi', 'on', 'leave', '?', 'Is', 'Manish', 'Kumar', 'on', 'leave', '?', 'Cost', 'Lowering', 'changes', 'to', 'be', 'made', '?', 'what', 'changes', 'could', 'lower', 'cost', '?', 'I', 'forgot', 'my', 'Login', 'password', '?', 'what', 'to', 'do', 'when', 'someone', 'forgets', 'Login', 'password', '?', 'I', 'forgot', 'my', 'Laptop', 'password', 'Forgot', 'Wifi', 'password', 'abx', '@', 'gmail.com', 'abc', '@', 'kiit.ac.in', 'Find', 'me', 'a', 'manufacturer', 'nearby', 'I', 'want', 'to', 'know', 'the', 'various', 'departments', 'in', 'this', 'company', 'what', 'are', 'challenging', 'events', 'what', 'are', 'the', 'threats', 'in', 'the', 'market', 'Our', 'Target', 'customers', 'who', 'are', 'your', 'key', 'customers', 'What', 'information', 'is', 'shared', 'with', 'supplier', '?', 'What', 'is', 'the', 'highest', 'grossing', 'product', '?', 'I', 'want', 'to', 'meet', 'the', 'head', 'of', 'HR/IT/Projects', 'department', 'I', 'want', 'to', 'meet', 'head', 'IT', 'Rakesh', 'sharma', '.', 'complaint', 'has', 'been', 'raised', 'for', 'Insufficient', 'Team', 'Skills', 'Miscommunication', 'Conflicts', 'needs', 'to', 'be', 'resolved', 'Risk', 'Management', 'issue', 'has', 'occured', 'skilled', 'employees', 'needed', 'urgently', 'Lack', 'of', 'product', 'clarity', 'the', 'specifications', 'of', 'product', 'is', 'not', 'clear', 'to', 'customer', '.', 'what', 'should', 'we', 'do', 'user', 'needs', 'the', 'updated', 'software', 'version', 'user', 'demands', 'software', 'updation', 'problem', 'related', 'to', 'Job', 'design', 'and', 'analysis', 'query', 'based', 'on', 'Workforce', 'planning', 'Training', 'and', 'development', 'issues', 'are', 'to', 'be', 'handled', 'Compensation', 'and', 'benefits', 'of', 'the', 'working', 'employee', 'Legal', 'issues', 'of', 'department', 'like', 'accidents', 'in', 'the', 'company', 'Impact', 'on', 'sale', '?', 'factors', 'impacting', 'sale', 'this', 'year', '?', 'how', 'have', 'we', 'improved', 'our', 'sale', 'from', 'last', 'year', '?', 'what', 'is', 'the', 'profit', 'this', 'year', '?', 'how', 'was', 'the', 'customer', 'response', 'Is', 'the', 'customer', 'happy', '?', 'what', 'was', 'the', 'customer', 'feedback', '?', 'maintainence', 'related', 'queries', 'recorded', 'what', 'are', 'the', 'gadgets', 'in', 'stock', '?', 'which', 'products', 'we', 'have', '?', 'what', 'is', 'the', 'Commission', 'rate', '?', 'Commission', 'rate', 'on', 'each', 'product', '?', 'Marry', 'me', 'I', 'love', 'You', 'date', 'me', 'chat', 'with', 'me', 'I', 'am', 'bored', 'why', 'how', 'when', 'I', 'you', 'what', 'is', 'the', 'turnover', 'of', 'the', 'company', 'at', 'present', '?']\n",
            "99 documents\n",
            "38 classes ['HR_related_problem', 'Location', 'appointment status', 'check_leave', 'commission', 'competitors_in_market', 'connect_people', 'cost_lowering', 'customer_satisfaction', 'email_id', 'factors_impacting_sale', 'flightCancel', 'flightReschedule', 'flightTicket', 'forgot_password', 'gadgets', 'goodbye', 'greeting', 'highest_grossing', 'invalid', 'key_customers', 'maintainence', 'manufacturing_problems', 'missing_id', 'noans', 'options', 'order_components', 'order_tracking', 'predict_performance', 'project_handling_queries', 'search_department', 'search_person_by_id', 'solve_problems', 'supplier_info', 'thanks', 'turnover', 'version_update', 'welcome']\n",
            "215 unique lemmatized words [\"'s\", ',', '.', '23a31', '32712', '345a23', '431b67', '561a24', '562b78', '@', 'a', 'abc', 'abx', 'accident', 'am', 'an', 'analysis', 'and', 'anyone', 'appointment', 'appoitment', 'are', 'at', 'awesome', 'based', 'be', 'been', 'benefit', 'bored', 'bye', 'can', 'cancel', 'challenging', 'change', 'chat', 'chatting', 'clarity', 'clear', 'commission', 'company', 'compensation', 'complaint', 'component', 'comprises', 'conflict', 'cost', 'could', 'customer', 'date', 'day', 'delivery', 'demand', 'department', 'design', 'development', 'do', 'download', 'each', 'employee', 'event', 'factor', 'feedback', 'find', 'fixed', 'flight', 'for', 'forgets', 'forgot', 'from', 'gadget', 'give', 'gmail.com', 'good', 'goodbye', 'grossing', 'ha', 'handled', 'happy', 'have', 'head', 'hello', 'help', 'helpful', 'helping', 'hey', 'hi', 'highest', 'hola', 'how', 'hr/it/projects', 'i', 'id', 'impact', 'impacting', 'improved', 'in', 'information', 'insufficient', 'is', 'issue', 'it', 'job', 'key', 'kiit.ac.in', 'know', 'kumar', 'lack', 'laptop', 'last', 'later', 'leave', 'legal', 'like', 'list', 'locate', 'location', 'login', 'love', 'lower', 'lowering', 'made', 'maintainence', 'management', 'manish', 'manoj', 'manufacturer', 'market', 'marry', 'me', 'meet', 'miscommunication', 'my', 'nandi', 'nearby', 'need', 'needed', 'next', 'nice', 'not', 'occured', 'of', 'on', 'order', 'our', 'password', 'planning', 'present', 'problem', 'product', 'profit', 'provide', 'query', 'raised', 'rakesh', 'rate', 'recorded', 'related', 'reschedule', 'resolved', 'response', 'risk', 'sale', 'see', 'set', 'shared', 'sharma', 'should', 'skill', 'skilled', 'software', 'someone', 'specification', 'stock', 'sujata', 'supplier', 'target', 'team', 'thank', 'thanks', 'that', 'the', 'there', 'this', 'threat', 'ticket', 'till', 'time', 'to', 'today', 'track', 'training', 'turnover', 'updated', 'updation', 'urgently', 'user', 'various', 'version', 'wa', 'want', 'we', 'welcome', 'what', 'when', 'where', 'which', 'who', 'why', 'wifi', 'with', 'workforce', 'working', 'year', 'you', 'your']\n"
          ]
        }
      ]
    },
    {
      "cell_type": "code",
      "metadata": {
        "colab": {
          "base_uri": "https://localhost:8080/"
        },
        "id": "4C0zG9NWuREl",
        "outputId": "f720c13e-2bda-4c62-b46e-5dcc4b7cf9a5"
      },
      "source": [
        "# create our training data\n",
        "training = []\n",
        "# create an empty array for our output\n",
        "output_empty = [0] * len(classes)\n",
        "# training set, bag of words for each sentence\n",
        "for doc in documents:\n",
        "    # initialize our bag of words\n",
        "    bag = []\n",
        "    # list of tokenized words for the pattern\n",
        "    pattern_words = doc[0]\n",
        "    # lemmatize each word - create base word, in attempt to represent related words\n",
        "    pattern_words = [lemmatizer.lemmatize(word.lower()) for word in pattern_words]\n",
        "    # create our bag of words array with 1, if word match found in current pattern\n",
        "    for w in words:\n",
        "        bag.append(1) if w in pattern_words else bag.append(0)\n",
        "    \n",
        "    # output is a '0' for each tag and '1' for current tag (for each pattern)\n",
        "    output_row = list(output_empty)\n",
        "    output_row[classes.index(doc[1])] = 1\n",
        "    \n",
        "    training.append([bag, output_row])\n",
        "\n",
        "# shuffle our features and turn into np.array\n",
        "random.shuffle(training)\n",
        "training = np.array(training)\n",
        "# create train and test lists. X - patterns, Y - intents\n",
        "train_x = list(training[:,0])\n",
        "train_y = list(training[:,1])\n",
        "print(\"Training data created\")"
      ],
      "execution_count": null,
      "outputs": [
        {
          "output_type": "stream",
          "name": "stdout",
          "text": [
            "Training data created\n"
          ]
        },
        {
          "output_type": "stream",
          "name": "stderr",
          "text": [
            "/usr/local/lib/python3.7/dist-packages/ipykernel_launcher.py:25: VisibleDeprecationWarning: Creating an ndarray from ragged nested sequences (which is a list-or-tuple of lists-or-tuples-or ndarrays with different lengths or shapes) is deprecated. If you meant to do this, you must specify 'dtype=object' when creating the ndarray\n"
          ]
        }
      ]
    },
    {
      "cell_type": "code",
      "metadata": {
        "id": "3W_h4nl6uWCZ"
      },
      "source": [
        "from tensorflow.keras.optimizers import SGD\n",
        "# Create model - 3 layers. First layer 128 neurons, second layer 64 neurons and 3rd output layer contains number of neurons\n",
        "# equal to number of intents to predict output intent with softmax\n",
        "model = Sequential()\n",
        "model.add(Dense(128, input_shape=(len(train_x[0]),), activation='relu'))\n",
        "model.add(Dropout(0.5))\n",
        "model.add(Dense(64, activation='relu'))\n",
        "model.add(Dropout(0.5))\n",
        "model.add(Dense(len(train_y[0]), activation='softmax'))\n",
        "\n",
        "# Compile model. Stochastic gradient descent with Nesterov accelerated gradient gives good results for this model\n",
        "sgd = SGD(lr=0.01, decay=1e-6, momentum=0.9, nesterov=True)\n",
        "model.compile(loss='categorical_crossentropy', optimizer=sgd, metrics=['accuracy'])\n",
        "\n",
        "#fitting and saving the model \n",
        "hist = model.fit(np.array(train_x), np.array(train_y), epochs=200, batch_size=5, verbose=1)\n",
        "model.save('chatbot_model.h5', hist)\n",
        "\n",
        "print(\"model created\")"
      ],
      "execution_count": null,
      "outputs": []
    },
    {
      "cell_type": "code",
      "source": [
        "import nltk\n",
        "from keras.models import load_model\n",
        "from nltk.stem import WordNetLemmatizer\n",
        "lemmatizer = WordNetLemmatizer()\n",
        "model = load_model('chatbot_model.h5')\n",
        "import json\n",
        "import random, pickle\n",
        "import numpy as np\n",
        "intents = json.loads(open('./sample_data/intents.json').read())\n",
        "words = pickle.load(open('words.pkl','rb'))\n",
        "classes = pickle.load(open('classes.pkl','rb'))"
      ],
      "metadata": {
        "id": "6XkAPw7BhieK"
      },
      "execution_count": null,
      "outputs": []
    },
    {
      "cell_type": "code",
      "source": [
        "def clean_up_sentence(sentence):\n",
        "    # tokenize the pattern - split words into array\n",
        "    sentence_words = nltk.word_tokenize(sentence)\n",
        "    # stem each word - create short form for word\n",
        "    sentence_words = [lemmatizer.lemmatize(word.lower()) for word in sentence_words]\n",
        "    return sentence_words\n",
        "# return bag of words array: 0 or 1 for each word in the bag that exists in the sentence"
      ],
      "metadata": {
        "id": "3Q2H2oTsg71u"
      },
      "execution_count": null,
      "outputs": []
    },
    {
      "cell_type": "code",
      "source": [
        "def bow(sentence, words, show_details=True):\n",
        "    # tokenize the pattern\n",
        "    sentence_words = clean_up_sentence(sentence)\n",
        "    # bag of words - matrix of N words, vocabulary matrix\n",
        "    bag = [0]*len(words) \n",
        "    for s in sentence_words:\n",
        "        for i,w in enumerate(words):\n",
        "            if w == s: \n",
        "                # assign 1 if current word is in the vocabulary position\n",
        "                bag[i] = 1\n",
        "                if show_details:\n",
        "                    print (\"found in bag: %s\" % w)\n",
        "    return(np.array(bag))"
      ],
      "metadata": {
        "id": "ciQk8XKmhBzA"
      },
      "execution_count": null,
      "outputs": []
    },
    {
      "cell_type": "code",
      "source": [
        "def predict_class(sentence, model):\n",
        "    # filter out predictions below a threshold\n",
        "    p = bow(sentence, words,show_details=False)\n",
        "    res = model.predict(np.array([p]))[0]\n",
        "    #print(\"res:\",res)\n",
        "    ERROR_THRESHOLD = 0.25\n",
        "    results = [[i,r] for i,r in enumerate(res) if r>ERROR_THRESHOLD]\n",
        "    # sort by strength of probability\n",
        "    #print(\"results:\",results)\n",
        "    results.sort(key=lambda x: x[1], reverse=True)\n",
        "    return_list = []\n",
        "    for r in results:\n",
        "        return_list.append({\"intent\": classes[r[0]], \"probability\": str(r[1])})\n",
        "    #print(\"resList:\",return_list)\n",
        "    return return_list"
      ],
      "metadata": {
        "id": "SajUCBKRDEuW"
      },
      "execution_count": null,
      "outputs": []
    },
    {
      "cell_type": "code",
      "source": [
        "def getResponse(tag, intents_json):\n",
        "    list_of_intents = intents_json['intents']\n",
        "    result = \"---\"\n",
        "    for i in list_of_intents:\n",
        "        if(i['tag']== tag):\n",
        "            result = random.choice(i['responses'])\n",
        "            break\n",
        "    return result"
      ],
      "metadata": {
        "id": "FITs8TB6hKRk"
      },
      "execution_count": null,
      "outputs": []
    },
    {
      "cell_type": "code",
      "source": [
        "def chatbot_response(text):\n",
        "    ints = predict_class(text, model)\n",
        "    tag = ints[0]['intent']\n",
        "    res = getResponse(tag, intents)\n",
        "    return res"
      ],
      "metadata": {
        "id": "ksAOQzwNhOqe"
      },
      "execution_count": null,
      "outputs": []
    },
    {
      "cell_type": "code",
      "source": [
        "def myTestBot():\n",
        "    incoming_msg = input()\n",
        "    welcome_reply = chatbot_response(\"welcome\")\n",
        "    print(\"bot:\",welcome_reply)\n",
        "    classtag = predict_class(incoming_msg, model)\n",
        "    tag = classtag[0]['intent']\n",
        "    while(tag == 'greeting'):\n",
        "        res = getResponse(tag, intents)\n",
        "        print(\"bot:\",res)\n",
        "        incoming_msg = input()\n",
        "        classtag = predict_class(incoming_msg, model)\n",
        "        tag = classtag[0]['intent']\n",
        "    if(tag == 'flightTicket'):\n",
        "        print(\"bot: ticket process started\")\n",
        "        res = getResponse('authenticateEmail', intents)\n",
        "        print(\"bot:\",res)\n",
        "        incoming_msg = input()\n",
        "        #API Call\n",
        "        res = getResponse('emailAuthSuccRes', intents)\n",
        "        print(\"bot:\",res)\n",
        "        res = getResponse('authenticatePhone', intents)\n",
        "        print(\"bot:\",res)\n",
        "        incoming_msg = input()\n",
        "        #API Call\n",
        "        res = getResponse('phoneAuthSuccRes', intents)\n",
        "        print(\"bot:\",res)\n",
        "        #ApI Call to download ticket\n",
        "        print(\"ticket url\")\n",
        "    elif(tag == 'flightCancel'):\n",
        "        print(\"bot: cancellation process started\")\n",
        "        res = getResponse('authenticateEmail', intents)\n",
        "        print(\"bot:\",res)\n",
        "        incoming_msg = input()\n",
        "        #API Call\n",
        "        res = getResponse('emailAuthSuccRes', intents)\n",
        "        print(\"bot:\",res)\n",
        "        res = getResponse('authenticatePhone', intents)\n",
        "        print(\"bot:\",res)\n",
        "        incoming_msg = input()\n",
        "        #API Call\n",
        "        res = getResponse('PhoneAuthSuccRes', intents)\n",
        "        print(\"bot:\",res)\n",
        "        res = getResponse('enterPNR', intents)\n",
        "        print(\"bot:\",res)\n",
        "        incoming_msg = input()\n",
        "        #API Calls\n",
        "        res = getResponse('cancelSuccRes', intents)\n",
        "        print(\"bot:\",res)\n",
        "    else:\n",
        "        res = getResponse('noanswer', intents)\n",
        "        print(\"bot:\",res)    \n",
        "\n",
        "myTestBot()"
      ],
      "metadata": {
        "id": "NwBv4Cz0hR5m"
      },
      "execution_count": null,
      "outputs": []
    }
  ]
}